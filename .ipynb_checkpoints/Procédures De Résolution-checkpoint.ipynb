{
 "cells": [
  {
   "cell_type": "markdown",
   "metadata": {},
   "source": [
    "LACOUX coline <br>\n",
    "NARTZ Kévin \n",
    "\n",
    "### Projet MADMC 2020\n",
    "# Sélection bi-objectifs avec coefficients intervalles"
   ]
  },
  {
   "cell_type": "code",
   "execution_count": 2,
   "metadata": {},
   "outputs": [],
   "source": [
    "from algorithms import *\n",
    "from experiments import *\n",
    "import matplotlib.pyplot as plt\n",
    "from utils import *\n",
    "%load_ext autoreload\n",
    "%autoreload 2"
   ]
  },
  {
   "cell_type": "markdown",
   "metadata": {},
   "source": [
    "# Première procédure de résolution"
   ]
  },
  {
   "cell_type": "code",
   "execution_count": 12,
   "metadata": {},
   "outputs": [],
   "source": [
    "# DATA\n",
    "n = 5\n",
    "k = 3\n",
    "alpha_min = 0.1\n",
    "alpha_max = 0.95\n",
    "E = generate_vectors(n,10).astype(int)"
   ]
  },
  {
   "cell_type": "code",
   "execution_count": 13,
   "metadata": {},
   "outputs": [
    {
     "name": "stdout",
     "output_type": "stream",
     "text": [
      "---- Première Phase ----\n",
      "Progression: [--------------------] 0.0%\r",
      "Progression: [####----------------] 20.0%\r",
      "Progression: [########------------] 40.0%\r",
      "Progression: [############--------] 60.0%\r",
      "Progression: [####################] 100.0%\n",
      "---- Seconde Phase ----\n",
      "Progression: [--------------------] 0.0%\r",
      "Progression: [#######-------------] 33.3%\r",
      "Progression: [#############-------] 66.7%\r",
      "Progression: [####################] 100.0%\n",
      "Point minimax dans l'espace des objectifs :  (24, 25)\n",
      "Objets séléctionnés:  [0, 1, 2]\n"
     ]
    }
   ],
   "source": [
    "minimax_sol, minimax_sol_i, pareto_front, pareto_front_i, P, I = two_phased_pareto(E, k, alpha_min, alpha_max)\n",
    "print(\"Point minimax dans l'espace des objectifs : \", minimax_sol)\n",
    "print(\"Objets séléctionnés: \", minimax_sol_i)"
   ]
  },
  {
   "cell_type": "code",
   "execution_count": 14,
   "metadata": {},
   "outputs": [
    {
     "data": {
      "text/html": [
       "<div>\n",
       "<style scoped>\n",
       "    .dataframe tbody tr th:only-of-type {\n",
       "        vertical-align: middle;\n",
       "    }\n",
       "\n",
       "    .dataframe tbody tr th {\n",
       "        vertical-align: top;\n",
       "    }\n",
       "\n",
       "    .dataframe thead th {\n",
       "        text-align: right;\n",
       "    }\n",
       "</style>\n",
       "<table border=\"1\" class=\"dataframe\">\n",
       "  <thead>\n",
       "    <tr style=\"text-align: right;\">\n",
       "      <th></th>\n",
       "      <th>0:[9 5]</th>\n",
       "      <th>1:[6 7]</th>\n",
       "      <th>2:[ 9 13]</th>\n",
       "      <th>3:[10 11]</th>\n",
       "      <th>4:[12  7]</th>\n",
       "    </tr>\n",
       "    <tr>\n",
       "      <th>Taille</th>\n",
       "      <th></th>\n",
       "      <th></th>\n",
       "      <th></th>\n",
       "      <th></th>\n",
       "      <th></th>\n",
       "    </tr>\n",
       "  </thead>\n",
       "  <tbody>\n",
       "    <tr>\n",
       "      <th>0</th>\n",
       "      <td>[[0, 0]]</td>\n",
       "      <td>[[0, 0]]</td>\n",
       "      <td>[[0, 0]]</td>\n",
       "      <td>[[0, 0]]</td>\n",
       "      <td>[[0, 0]]</td>\n",
       "    </tr>\n",
       "    <tr>\n",
       "      <th>1</th>\n",
       "      <td>[[9, 5]]</td>\n",
       "      <td>[[6, 7], [9, 5]]</td>\n",
       "      <td>[[6, 7], [9, 5]]</td>\n",
       "      <td>[[6, 7], [9, 5]]</td>\n",
       "      <td>[[6, 7], [9, 5]]</td>\n",
       "    </tr>\n",
       "    <tr>\n",
       "      <th>2</th>\n",
       "      <td>[]</td>\n",
       "      <td>[[15, 12]]</td>\n",
       "      <td>[[15, 12]]</td>\n",
       "      <td>[[15, 12]]</td>\n",
       "      <td>[[15, 12]]</td>\n",
       "    </tr>\n",
       "    <tr>\n",
       "      <th>3</th>\n",
       "      <td>[]</td>\n",
       "      <td>[]</td>\n",
       "      <td>[[24, 25]]</td>\n",
       "      <td>[[25, 23], [24, 25]]</td>\n",
       "      <td>[[27, 19], [25, 23], [24, 25]]</td>\n",
       "    </tr>\n",
       "  </tbody>\n",
       "</table>\n",
       "</div>"
      ],
      "text/plain": [
       "         0:[9 5]           1:[6 7]         2:[ 9 13]             3:[10 11]  \\\n",
       "Taille                                                                       \n",
       "0       [[0, 0]]          [[0, 0]]          [[0, 0]]              [[0, 0]]   \n",
       "1       [[9, 5]]  [[6, 7], [9, 5]]  [[6, 7], [9, 5]]      [[6, 7], [9, 5]]   \n",
       "2             []        [[15, 12]]        [[15, 12]]            [[15, 12]]   \n",
       "3             []                []        [[24, 25]]  [[25, 23], [24, 25]]   \n",
       "\n",
       "                             4:[12  7]  \n",
       "Taille                                  \n",
       "0                             [[0, 0]]  \n",
       "1                     [[6, 7], [9, 5]]  \n",
       "2                           [[15, 12]]  \n",
       "3       [[27, 19], [25, 23], [24, 25]]  "
      ]
     },
     "execution_count": 14,
     "metadata": {},
     "output_type": "execute_result"
    }
   ],
   "source": [
    "P"
   ]
  },
  {
   "cell_type": "code",
   "execution_count": 15,
   "metadata": {},
   "outputs": [
    {
     "data": {
      "text/html": [
       "<div>\n",
       "<style scoped>\n",
       "    .dataframe tbody tr th:only-of-type {\n",
       "        vertical-align: middle;\n",
       "    }\n",
       "\n",
       "    .dataframe tbody tr th {\n",
       "        vertical-align: top;\n",
       "    }\n",
       "\n",
       "    .dataframe thead th {\n",
       "        text-align: right;\n",
       "    }\n",
       "</style>\n",
       "<table border=\"1\" class=\"dataframe\">\n",
       "  <thead>\n",
       "    <tr style=\"text-align: right;\">\n",
       "      <th></th>\n",
       "      <th>0:[9 5]</th>\n",
       "      <th>1:[6 7]</th>\n",
       "      <th>2:[ 9 13]</th>\n",
       "      <th>3:[10 11]</th>\n",
       "      <th>4:[12  7]</th>\n",
       "    </tr>\n",
       "    <tr>\n",
       "      <th>Taille</th>\n",
       "      <th></th>\n",
       "      <th></th>\n",
       "      <th></th>\n",
       "      <th></th>\n",
       "      <th></th>\n",
       "    </tr>\n",
       "  </thead>\n",
       "  <tbody>\n",
       "    <tr>\n",
       "      <th>0</th>\n",
       "      <td>[]</td>\n",
       "      <td>[]</td>\n",
       "      <td>[]</td>\n",
       "      <td>[]</td>\n",
       "      <td>[]</td>\n",
       "    </tr>\n",
       "    <tr>\n",
       "      <th>1</th>\n",
       "      <td>[[0]]</td>\n",
       "      <td>[[1], [0]]</td>\n",
       "      <td>[[1], [0]]</td>\n",
       "      <td>[[1], [0]]</td>\n",
       "      <td>[[1], [0]]</td>\n",
       "    </tr>\n",
       "    <tr>\n",
       "      <th>2</th>\n",
       "      <td>[]</td>\n",
       "      <td>[[0, 1]]</td>\n",
       "      <td>[[0, 1]]</td>\n",
       "      <td>[[0, 1]]</td>\n",
       "      <td>[[0, 1]]</td>\n",
       "    </tr>\n",
       "    <tr>\n",
       "      <th>3</th>\n",
       "      <td>[]</td>\n",
       "      <td>[]</td>\n",
       "      <td>[[0, 1, 2]]</td>\n",
       "      <td>[[0, 1, 3], [0, 1, 2]]</td>\n",
       "      <td>[[0, 1, 4], [0, 1, 3], [0, 1, 2]]</td>\n",
       "    </tr>\n",
       "  </tbody>\n",
       "</table>\n",
       "</div>"
      ],
      "text/plain": [
       "       0:[9 5]     1:[6 7]    2:[ 9 13]               3:[10 11]  \\\n",
       "Taille                                                            \n",
       "0           []          []           []                      []   \n",
       "1        [[0]]  [[1], [0]]   [[1], [0]]              [[1], [0]]   \n",
       "2           []    [[0, 1]]     [[0, 1]]                [[0, 1]]   \n",
       "3           []          []  [[0, 1, 2]]  [[0, 1, 3], [0, 1, 2]]   \n",
       "\n",
       "                                4:[12  7]  \n",
       "Taille                                     \n",
       "0                                      []  \n",
       "1                              [[1], [0]]  \n",
       "2                                [[0, 1]]  \n",
       "3       [[0, 1, 4], [0, 1, 3], [0, 1, 2]]  "
      ]
     },
     "execution_count": 15,
     "metadata": {},
     "output_type": "execute_result"
    }
   ],
   "source": [
    "I"
   ]
  },
  {
   "cell_type": "markdown",
   "metadata": {},
   "source": [
    "# Seconde procédure de résolution"
   ]
  },
  {
   "cell_type": "markdown",
   "metadata": {},
   "source": [
    "On s'assure que la transformation est fiable en testant la réduction puis reconstruction sur 1000 vecteurs aléatoires"
   ]
  },
  {
   "cell_type": "code",
   "execution_count": 16,
   "metadata": {},
   "outputs": [],
   "source": [
    "check_transform()"
   ]
  },
  {
   "cell_type": "code",
   "execution_count": 17,
   "metadata": {},
   "outputs": [],
   "source": [
    "# DATA\n",
    "alpha_min = 0.1\n",
    "alpha_max = 0.8"
   ]
  },
  {
   "cell_type": "code",
   "execution_count": 18,
   "metadata": {},
   "outputs": [
    {
     "name": "stdout",
     "output_type": "stream",
     "text": [
      "---- Première Phase ----\n",
      "Progression: [--------------------] 0.0%\r",
      "Progression: [####----------------] 20.0%\r",
      "Progression: [########------------] 40.0%\r",
      "Progression: [############--------] 60.0%\r",
      "Progression: [####################] 100.0%\n",
      "---- Seconde Phase ----\n",
      "Progression: [--------------------] 0.0%\r",
      "Progression: [#######-------------] 33.3%\r",
      "Progression: [#############-------] 66.7%\r",
      "Progression: [####################] 100.0%\n",
      "Point minimax dans l'espace des objectifs :  (25.0, 23.0)\n",
      "Objets séléctionnés:  [0, 1, 3]\n"
     ]
    }
   ],
   "source": [
    "minimax_sol_red, minimax_sol_i_red, pareto_front_red, pareto_front_i_red, P_red, I_red = two_phased_idominance(E, k, alpha_min, alpha_max)\n",
    "print(\"Point minimax dans l'espace des objectifs : \", minimax_sol_red)\n",
    "print(\"Objets séléctionnés: \", minimax_sol_i_red)"
   ]
  },
  {
   "cell_type": "code",
   "execution_count": 19,
   "metadata": {},
   "outputs": [
    {
     "data": {
      "text/html": [
       "<div>\n",
       "<style scoped>\n",
       "    .dataframe tbody tr th:only-of-type {\n",
       "        vertical-align: middle;\n",
       "    }\n",
       "\n",
       "    .dataframe tbody tr th {\n",
       "        vertical-align: top;\n",
       "    }\n",
       "\n",
       "    .dataframe thead th {\n",
       "        text-align: right;\n",
       "    }\n",
       "</style>\n",
       "<table border=\"1\" class=\"dataframe\">\n",
       "  <thead>\n",
       "    <tr style=\"text-align: right;\">\n",
       "      <th></th>\n",
       "      <th>0:[5.4 8.2]</th>\n",
       "      <th>1:[6.9 6.2]</th>\n",
       "      <th>2:[12.6  9.8]</th>\n",
       "      <th>3:[10.9 10.2]</th>\n",
       "      <th>4:[ 7.5 11. ]</th>\n",
       "    </tr>\n",
       "    <tr>\n",
       "      <th>Taille</th>\n",
       "      <th></th>\n",
       "      <th></th>\n",
       "      <th></th>\n",
       "      <th></th>\n",
       "      <th></th>\n",
       "    </tr>\n",
       "  </thead>\n",
       "  <tbody>\n",
       "    <tr>\n",
       "      <th>0</th>\n",
       "      <td>[[0, 0]]</td>\n",
       "      <td>[[0, 0]]</td>\n",
       "      <td>[[0, 0]]</td>\n",
       "      <td>[[0, 0]]</td>\n",
       "      <td>[[0, 0]]</td>\n",
       "    </tr>\n",
       "    <tr>\n",
       "      <th>1</th>\n",
       "      <td>[[5.4, 8.2]]</td>\n",
       "      <td>[[6.9, 6.2], [5.4, 8.2]]</td>\n",
       "      <td>[[6.9, 6.2], [5.4, 8.2]]</td>\n",
       "      <td>[[6.9, 6.2], [5.4, 8.2]]</td>\n",
       "      <td>[[6.9, 6.2], [5.4, 8.2]]</td>\n",
       "    </tr>\n",
       "    <tr>\n",
       "      <th>2</th>\n",
       "      <td>[]</td>\n",
       "      <td>[[12.3, 14.399999999999999]]</td>\n",
       "      <td>[[12.3, 14.399999999999999]]</td>\n",
       "      <td>[[12.3, 14.399999999999999]]</td>\n",
       "      <td>[[12.3, 14.399999999999999]]</td>\n",
       "    </tr>\n",
       "    <tr>\n",
       "      <th>3</th>\n",
       "      <td>[]</td>\n",
       "      <td>[]</td>\n",
       "      <td>[[24.900000000000002, 24.2]]</td>\n",
       "      <td>[[23.200000000000003, 24.599999999999998], [24...</td>\n",
       "      <td>[[19.8, 25.4], [23.200000000000003, 24.5999999...</td>\n",
       "    </tr>\n",
       "  </tbody>\n",
       "</table>\n",
       "</div>"
      ],
      "text/plain": [
       "         0:[5.4 8.2]                   1:[6.9 6.2]  \\\n",
       "Taille                                               \n",
       "0           [[0, 0]]                      [[0, 0]]   \n",
       "1       [[5.4, 8.2]]      [[6.9, 6.2], [5.4, 8.2]]   \n",
       "2                 []  [[12.3, 14.399999999999999]]   \n",
       "3                 []                            []   \n",
       "\n",
       "                       2:[12.6  9.8]  \\\n",
       "Taille                                 \n",
       "0                           [[0, 0]]   \n",
       "1           [[6.9, 6.2], [5.4, 8.2]]   \n",
       "2       [[12.3, 14.399999999999999]]   \n",
       "3       [[24.900000000000002, 24.2]]   \n",
       "\n",
       "                                            3:[10.9 10.2]  \\\n",
       "Taille                                                      \n",
       "0                                                [[0, 0]]   \n",
       "1                                [[6.9, 6.2], [5.4, 8.2]]   \n",
       "2                            [[12.3, 14.399999999999999]]   \n",
       "3       [[23.200000000000003, 24.599999999999998], [24...   \n",
       "\n",
       "                                            4:[ 7.5 11. ]  \n",
       "Taille                                                     \n",
       "0                                                [[0, 0]]  \n",
       "1                                [[6.9, 6.2], [5.4, 8.2]]  \n",
       "2                            [[12.3, 14.399999999999999]]  \n",
       "3       [[19.8, 25.4], [23.200000000000003, 24.5999999...  "
      ]
     },
     "execution_count": 19,
     "metadata": {},
     "output_type": "execute_result"
    }
   ],
   "source": [
    "P_red"
   ]
  },
  {
   "cell_type": "code",
   "execution_count": 20,
   "metadata": {},
   "outputs": [
    {
     "data": {
      "text/html": [
       "<div>\n",
       "<style scoped>\n",
       "    .dataframe tbody tr th:only-of-type {\n",
       "        vertical-align: middle;\n",
       "    }\n",
       "\n",
       "    .dataframe tbody tr th {\n",
       "        vertical-align: top;\n",
       "    }\n",
       "\n",
       "    .dataframe thead th {\n",
       "        text-align: right;\n",
       "    }\n",
       "</style>\n",
       "<table border=\"1\" class=\"dataframe\">\n",
       "  <thead>\n",
       "    <tr style=\"text-align: right;\">\n",
       "      <th></th>\n",
       "      <th>0:[5.4 8.2]</th>\n",
       "      <th>1:[6.9 6.2]</th>\n",
       "      <th>2:[12.6  9.8]</th>\n",
       "      <th>3:[10.9 10.2]</th>\n",
       "      <th>4:[ 7.5 11. ]</th>\n",
       "    </tr>\n",
       "    <tr>\n",
       "      <th>Taille</th>\n",
       "      <th></th>\n",
       "      <th></th>\n",
       "      <th></th>\n",
       "      <th></th>\n",
       "      <th></th>\n",
       "    </tr>\n",
       "  </thead>\n",
       "  <tbody>\n",
       "    <tr>\n",
       "      <th>0</th>\n",
       "      <td>[[-0.0, -0.0]]</td>\n",
       "      <td>[[-0.0, -0.0]]</td>\n",
       "      <td>[[-0.0, -0.0]]</td>\n",
       "      <td>[[-0.0, -0.0]]</td>\n",
       "      <td>[[-0.0, -0.0]]</td>\n",
       "    </tr>\n",
       "    <tr>\n",
       "      <th>1</th>\n",
       "      <td>[[9.0, 5.0]]</td>\n",
       "      <td>[[6.0, 7.0], [9.0, 5.0]]</td>\n",
       "      <td>[[6.0, 7.0], [9.0, 5.0]]</td>\n",
       "      <td>[[6.0, 7.0], [9.0, 5.0]]</td>\n",
       "      <td>[[6.0, 7.0], [9.0, 5.0]]</td>\n",
       "    </tr>\n",
       "    <tr>\n",
       "      <th>2</th>\n",
       "      <td>[]</td>\n",
       "      <td>[[15.0, 12.0]]</td>\n",
       "      <td>[[15.0, 12.0]]</td>\n",
       "      <td>[[15.0, 12.0]]</td>\n",
       "      <td>[[15.0, 12.0]]</td>\n",
       "    </tr>\n",
       "    <tr>\n",
       "      <th>3</th>\n",
       "      <td>[]</td>\n",
       "      <td>[]</td>\n",
       "      <td>[[24.0, 25.0]]</td>\n",
       "      <td>[[25.0, 23.0], [24.0, 25.0]]</td>\n",
       "      <td>[[27.0, 19.0], [25.0, 23.0], [24.0, 25.0]]</td>\n",
       "    </tr>\n",
       "  </tbody>\n",
       "</table>\n",
       "</div>"
      ],
      "text/plain": [
       "           0:[5.4 8.2]               1:[6.9 6.2]             2:[12.6  9.8]  \\\n",
       "Taille                                                                       \n",
       "0       [[-0.0, -0.0]]            [[-0.0, -0.0]]            [[-0.0, -0.0]]   \n",
       "1         [[9.0, 5.0]]  [[6.0, 7.0], [9.0, 5.0]]  [[6.0, 7.0], [9.0, 5.0]]   \n",
       "2                   []            [[15.0, 12.0]]            [[15.0, 12.0]]   \n",
       "3                   []                        []            [[24.0, 25.0]]   \n",
       "\n",
       "                       3:[10.9 10.2]  \\\n",
       "Taille                                 \n",
       "0                     [[-0.0, -0.0]]   \n",
       "1           [[6.0, 7.0], [9.0, 5.0]]   \n",
       "2                     [[15.0, 12.0]]   \n",
       "3       [[25.0, 23.0], [24.0, 25.0]]   \n",
       "\n",
       "                                     4:[ 7.5 11. ]  \n",
       "Taille                                              \n",
       "0                                   [[-0.0, -0.0]]  \n",
       "1                         [[6.0, 7.0], [9.0, 5.0]]  \n",
       "2                                   [[15.0, 12.0]]  \n",
       "3       [[27.0, 19.0], [25.0, 23.0], [24.0, 25.0]]  "
      ]
     },
     "execution_count": 20,
     "metadata": {},
     "output_type": "execute_result"
    }
   ],
   "source": [
    "P_rec = reconstruct_P(P_red, alpha_min, alpha_max)\n",
    "P_rec"
   ]
  },
  {
   "cell_type": "code",
   "execution_count": 21,
   "metadata": {},
   "outputs": [
    {
     "data": {
      "text/html": [
       "<div>\n",
       "<style scoped>\n",
       "    .dataframe tbody tr th:only-of-type {\n",
       "        vertical-align: middle;\n",
       "    }\n",
       "\n",
       "    .dataframe tbody tr th {\n",
       "        vertical-align: top;\n",
       "    }\n",
       "\n",
       "    .dataframe thead th {\n",
       "        text-align: right;\n",
       "    }\n",
       "</style>\n",
       "<table border=\"1\" class=\"dataframe\">\n",
       "  <thead>\n",
       "    <tr style=\"text-align: right;\">\n",
       "      <th></th>\n",
       "      <th>0:[5.4 8.2]</th>\n",
       "      <th>1:[6.9 6.2]</th>\n",
       "      <th>2:[12.6  9.8]</th>\n",
       "      <th>3:[10.9 10.2]</th>\n",
       "      <th>4:[ 7.5 11. ]</th>\n",
       "    </tr>\n",
       "    <tr>\n",
       "      <th>Taille</th>\n",
       "      <th></th>\n",
       "      <th></th>\n",
       "      <th></th>\n",
       "      <th></th>\n",
       "      <th></th>\n",
       "    </tr>\n",
       "  </thead>\n",
       "  <tbody>\n",
       "    <tr>\n",
       "      <th>0</th>\n",
       "      <td>[]</td>\n",
       "      <td>[]</td>\n",
       "      <td>[]</td>\n",
       "      <td>[]</td>\n",
       "      <td>[]</td>\n",
       "    </tr>\n",
       "    <tr>\n",
       "      <th>1</th>\n",
       "      <td>[[0]]</td>\n",
       "      <td>[[1], [0]]</td>\n",
       "      <td>[[1], [0]]</td>\n",
       "      <td>[[1], [0]]</td>\n",
       "      <td>[[1], [0]]</td>\n",
       "    </tr>\n",
       "    <tr>\n",
       "      <th>2</th>\n",
       "      <td>[]</td>\n",
       "      <td>[[0, 1]]</td>\n",
       "      <td>[[0, 1]]</td>\n",
       "      <td>[[0, 1]]</td>\n",
       "      <td>[[0, 1]]</td>\n",
       "    </tr>\n",
       "    <tr>\n",
       "      <th>3</th>\n",
       "      <td>[]</td>\n",
       "      <td>[]</td>\n",
       "      <td>[[0, 1, 2]]</td>\n",
       "      <td>[[0, 1, 3], [0, 1, 2]]</td>\n",
       "      <td>[[0, 1, 4], [0, 1, 3], [0, 1, 2]]</td>\n",
       "    </tr>\n",
       "  </tbody>\n",
       "</table>\n",
       "</div>"
      ],
      "text/plain": [
       "       0:[5.4 8.2] 1:[6.9 6.2] 2:[12.6  9.8]           3:[10.9 10.2]  \\\n",
       "Taille                                                                 \n",
       "0               []          []            []                      []   \n",
       "1            [[0]]  [[1], [0]]    [[1], [0]]              [[1], [0]]   \n",
       "2               []    [[0, 1]]      [[0, 1]]                [[0, 1]]   \n",
       "3               []          []   [[0, 1, 2]]  [[0, 1, 3], [0, 1, 2]]   \n",
       "\n",
       "                            4:[ 7.5 11. ]  \n",
       "Taille                                     \n",
       "0                                      []  \n",
       "1                              [[1], [0]]  \n",
       "2                                [[0, 1]]  \n",
       "3       [[0, 1, 4], [0, 1, 3], [0, 1, 2]]  "
      ]
     },
     "execution_count": 21,
     "metadata": {},
     "output_type": "execute_result"
    }
   ],
   "source": [
    "I_red"
   ]
  },
  {
   "cell_type": "markdown",
   "metadata": {},
   "source": [
    "# Comparaison expérimentale des deux méthodes"
   ]
  },
  {
   "cell_type": "markdown",
   "metadata": {},
   "source": [
    "# 1 - Visualisation"
   ]
  },
  {
   "cell_type": "code",
   "execution_count": 51,
   "metadata": {},
   "outputs": [],
   "source": [
    "# DATA\n",
    "n = 50\n",
    "k = 2\n",
    "alpha_min = 0.3\n",
    "alpha_max = 0.7\n",
    "E = generate_vectors(n,100)\n",
    "\n",
    "all_sets = []\n",
    "for y1_1,y1_2 in E:\n",
    "    for y2_1,y2_2 in E:\n",
    "        if y1_1!=y2_1 and y1_2!=y2_2:\n",
    "            all_sets.append([y1_1+y2_1, y1_2+y2_2])\n",
    "all_sets = np.array(all_sets)"
   ]
  },
  {
   "cell_type": "code",
   "execution_count": 52,
   "metadata": {},
   "outputs": [
    {
     "name": "stdout",
     "output_type": "stream",
     "text": [
      "--- PREMIERE METHODE ---\n",
      "---- Première Phase ----\n",
      "Progression: [--------------------] 0.0%\r",
      "Progression: [--------------------] 2.0%\r",
      "Progression: [#-------------------] 4.0%\r",
      "Progression: [#-------------------] 6.0%\r",
      "Progression: [##------------------] 8.0%\r",
      "Progression: [##------------------] 10.0%\r",
      "Progression: [##------------------] 12.0%\r",
      "Progression: [###-----------------] 14.0%\r",
      "Progression: [###-----------------] 16.0%\r",
      "Progression: [####----------------] 18.0%\r",
      "Progression: [####----------------] 20.0%\r",
      "Progression: [####----------------] 22.0%\r",
      "Progression: [#####---------------] 24.0%\r",
      "Progression: [#####---------------] 26.0%\r",
      "Progression: [######--------------] 28.0%\r",
      "Progression: [######--------------] 30.0%\r",
      "Progression: [######--------------] 32.0%\r",
      "Progression: [#######-------------] 34.0%\r",
      "Progression: [#######-------------] 36.0%\r",
      "Progression: [########------------] 38.0%\r",
      "Progression: [########------------] 40.0%\r",
      "Progression: [########------------] 42.0%\r",
      "Progression: [#########-----------] 44.0%\r",
      "Progression: [#########-----------] 46.0%\r",
      "Progression: [##########----------] 48.0%\r",
      "Progression: [##########----------] 50.0%\r",
      "Progression: [##########----------] 52.0%\r",
      "Progression: [###########---------] 54.0%\r",
      "Progression: [###########---------] 56.0%\r",
      "Progression: [############--------] 58.0%\r",
      "Progression: [############--------] 60.0%\r",
      "Progression: [############--------] 62.0%\r",
      "Progression: [#############-------] 64.0%\r",
      "Progression: [#############-------] 66.0%\r",
      "Progression: [##############------] 68.0%\r",
      "Progression: [##############------] 70.0%\r",
      "Progression: [##############------] 72.0%\r",
      "Progression: [###############-----] 74.0%\r",
      "Progression: [###############-----] 76.0%\r",
      "Progression: [################----] 78.0%\r",
      "Progression: [################----] 80.0%\r",
      "Progression: [################----] 82.0%\r",
      "Progression: [#################---] 84.0%\r",
      "Progression: [#################---] 86.0%\r",
      "Progression: [##################--] 88.0%\r",
      "Progression: [##################--] 90.0%\r",
      "Progression: [##################--] 92.0%\r",
      "Progression: [###################-] 94.0%\r",
      "Progression: [###################-] 96.0%\r",
      "Progression: [####################] 100.0%\n",
      "---- Seconde Phase ----\n",
      "Progression: [--------------------] 0.0%\r",
      "Progression: [###-----------------] 14.3%\r",
      "Progression: [######--------------] 28.6%\r",
      "Progression: [#########-----------] 42.9%\r",
      "Progression: [###########---------] 57.1%\r",
      "Progression: [##############------] 71.4%\r",
      "Progression: [#################---] 85.7%\r",
      "Progression: [####################] 100.0%\n",
      "--- DEUXIEME METHODE ---\n",
      "---- Première Phase ----\n",
      "Progression: [--------------------] 0.0%\r",
      "Progression: [--------------------] 2.0%\r",
      "Progression: [#-------------------] 4.0%\r",
      "Progression: [#-------------------] 6.0%\r",
      "Progression: [##------------------] 8.0%\r",
      "Progression: [##------------------] 10.0%\r",
      "Progression: [##------------------] 12.0%\r",
      "Progression: [###-----------------] 14.0%\r",
      "Progression: [###-----------------] 16.0%\r",
      "Progression: [####----------------] 18.0%\r",
      "Progression: [####----------------] 20.0%\r",
      "Progression: [####----------------] 22.0%\r",
      "Progression: [#####---------------] 24.0%\r",
      "Progression: [#####---------------] 26.0%\r",
      "Progression: [######--------------] 28.0%\r",
      "Progression: [######--------------] 30.0%\r",
      "Progression: [######--------------] 32.0%\r",
      "Progression: [#######-------------] 34.0%\r",
      "Progression: [#######-------------] 36.0%\r",
      "Progression: [########------------] 38.0%\r",
      "Progression: [########------------] 40.0%\r",
      "Progression: [########------------] 42.0%\r",
      "Progression: [#########-----------] 44.0%\r",
      "Progression: [#########-----------] 46.0%\r",
      "Progression: [##########----------] 48.0%\r",
      "Progression: [##########----------] 50.0%\r",
      "Progression: [##########----------] 52.0%\r",
      "Progression: [###########---------] 54.0%\r",
      "Progression: [###########---------] 56.0%\r",
      "Progression: [############--------] 58.0%\r",
      "Progression: [############--------] 60.0%\r",
      "Progression: [############--------] 62.0%\r",
      "Progression: [#############-------] 64.0%\r",
      "Progression: [#############-------] 66.0%\r",
      "Progression: [##############------] 68.0%\r",
      "Progression: [##############------] 70.0%\r",
      "Progression: [##############------] 72.0%\r",
      "Progression: [###############-----] 74.0%\r",
      "Progression: [###############-----] 76.0%\r",
      "Progression: [################----] 78.0%\r",
      "Progression: [################----] 80.0%\r",
      "Progression: [################----] 82.0%\r",
      "Progression: [#################---] 84.0%\r",
      "Progression: [#################---] 86.0%\r",
      "Progression: [##################--] 88.0%\r",
      "Progression: [##################--] 90.0%\r",
      "Progression: [##################--] 92.0%\r",
      "Progression: [###################-] 94.0%\r",
      "Progression: [###################-] 96.0%\r",
      "Progression: [####################] 100.0%\n",
      "---- Seconde Phase ----\n",
      "Progression: [--------------------] 0.0%\r",
      "Progression: [####----------------] 20.0%\r",
      "Progression: [########------------] 40.0%\r",
      "Progression: [############--------] 60.0%\r",
      "Progression: [################----] 80.0%\r",
      "Progression: [####################] 100.0%\n"
     ]
    }
   ],
   "source": [
    "print(\"--- PREMIERE METHODE ---\")\n",
    "minimax_sol1, minimax_sol_i1, front1, front_i1, P1, I1 = two_phased_pareto(E, k, alpha_min, alpha_max)\n",
    "print(\"--- DEUXIEME METHODE ---\")\n",
    "minimax_sol2, minimax_sol_i2, front2, front_i2, P2, I2 = two_phased_idominance(E, k, alpha_min, alpha_max)"
   ]
  },
  {
   "cell_type": "code",
   "execution_count": 53,
   "metadata": {},
   "outputs": [
    {
     "data": {
      "image/png": "[encoded data removed]",
      "text/plain": [
       "<Figure size 432x288 with 1 Axes>"
      ]
     },
     "metadata": {
      "needs_background": "light"
     },
     "output_type": "display_data"
    }
   ],
   "source": [
    "show_pareto_front(all_sets, front1, minimax=minimax_sol1, title=\"avec la première procédure\")"
   ]
  },
  {
   "cell_type": "code",
   "execution_count": 54,
   "metadata": {
    "scrolled": true
   },
   "outputs": [
    {
     "data": {
      "image/png": "[encoded data removed]",
      "text/plain": [
       "<Figure size 432x288 with 1 Axes>"
      ]
     },
     "metadata": {
      "needs_background": "light"
     },
     "output_type": "display_data"
    }
   ],
   "source": [
    "show_pareto_front(all_sets, front2, minimax=minimax_sol2, title=\"avec la seconde procédure\")"
   ]
  },
  {
   "cell_type": "markdown",
   "metadata": {},
   "source": [
    "On remarque que le front de Pareto est plus restreint avec la seconde procédure, cela est dû au fait que la I-dominance est plus stricte."
   ]
  },
  {
   "cell_type": "markdown",
   "metadata": {},
   "source": [
    "## Temps d'exécution"
   ]
  },
  {
   "cell_type": "code",
   "execution_count": 56,
   "metadata": {},
   "outputs": [
    {
     "name": "stdout",
     "output_type": "stream",
     "text": [
      "Progression: [#################---] 85.0%\r"
     ]
    },
    {
     "ename": "KeyboardInterrupt",
     "evalue": "",
     "output_type": "error",
     "traceback": [
      "\u001b[1;31m---------------------------------------------------------------------------\u001b[0m",
      "\u001b[1;31mKeyboardInterrupt\u001b[0m                         Traceback (most recent call last)",
      "\u001b[1;32m<ipython-input-56-0aae401b9147>\u001b[0m in \u001b[0;36m<module>\u001b[1;34m\u001b[0m\n\u001b[1;32m----> 1\u001b[1;33m \u001b[0mcompare_procedures\u001b[0m\u001b[1;33m(\u001b[0m\u001b[0mtwo_phased_pareto\u001b[0m\u001b[1;33m,\u001b[0m \u001b[0mtwo_phased_idominance\u001b[0m\u001b[1;33m,\u001b[0m \u001b[0mnb_iter\u001b[0m\u001b[1;33m=\u001b[0m\u001b[1;36m50\u001b[0m\u001b[1;33m)\u001b[0m\u001b[1;33m\u001b[0m\u001b[1;33m\u001b[0m\u001b[0m\n\u001b[0m",
      "\u001b[1;32m~\\Desktop\\MADMC\\Projet\\experiments.py\u001b[0m in \u001b[0;36mcompare_procedures\u001b[1;34m(procedure1, procedure2, nb_iter)\u001b[0m\n\u001b[0;32m     70\u001b[0m         \u001b[1;32mfor\u001b[0m \u001b[0mi\u001b[0m \u001b[1;32min\u001b[0m \u001b[0mrange\u001b[0m\u001b[1;33m(\u001b[0m\u001b[0mnb_iter\u001b[0m\u001b[1;33m)\u001b[0m\u001b[1;33m:\u001b[0m\u001b[1;33m\u001b[0m\u001b[1;33m\u001b[0m\u001b[0m\n\u001b[0;32m     71\u001b[0m             \u001b[0mE\u001b[0m \u001b[1;33m=\u001b[0m \u001b[0mgenerate_vectors\u001b[0m\u001b[1;33m(\u001b[0m\u001b[0mn\u001b[0m\u001b[1;33m,\u001b[0m \u001b[0mm\u001b[0m\u001b[1;33m)\u001b[0m\u001b[1;33m\u001b[0m\u001b[1;33m\u001b[0m\u001b[0m\n\u001b[1;32m---> 72\u001b[1;33m             \u001b[0mtwo_phased_idominance\u001b[0m\u001b[1;33m(\u001b[0m\u001b[0mE\u001b[0m\u001b[1;33m,\u001b[0m \u001b[0mk\u001b[0m\u001b[1;33m,\u001b[0m \u001b[0malpha_min\u001b[0m\u001b[1;33m,\u001b[0m \u001b[0malpha_max\u001b[0m\u001b[1;33m,\u001b[0m \u001b[0mshow\u001b[0m\u001b[1;33m=\u001b[0m\u001b[1;32mFalse\u001b[0m\u001b[1;33m)\u001b[0m\u001b[1;33m\u001b[0m\u001b[1;33m\u001b[0m\u001b[0m\n\u001b[0m\u001b[0;32m     73\u001b[0m         \u001b[0mtime_2\u001b[0m \u001b[1;33m=\u001b[0m \u001b[1;33m(\u001b[0m\u001b[0mtime\u001b[0m\u001b[1;33m.\u001b[0m\u001b[0mtime\u001b[0m\u001b[1;33m(\u001b[0m\u001b[1;33m)\u001b[0m \u001b[1;33m-\u001b[0m \u001b[0mtime_2\u001b[0m\u001b[1;33m)\u001b[0m \u001b[1;33m/\u001b[0m \u001b[0mnb_iter\u001b[0m\u001b[1;33m\u001b[0m\u001b[1;33m\u001b[0m\u001b[0m\n\u001b[0;32m     74\u001b[0m \u001b[1;33m\u001b[0m\u001b[0m\n",
      "\u001b[1;32m~\\Desktop\\MADMC\\Projet\\algorithms.py\u001b[0m in \u001b[0;36mtwo_phased_idominance\u001b[1;34m(E, k, alpha_min, alpha_max, show)\u001b[0m\n\u001b[0;32m    132\u001b[0m         \u001b[0mprint\u001b[0m\u001b[1;33m(\u001b[0m\u001b[1;34m\"---- Première Phase ----\"\u001b[0m\u001b[1;33m)\u001b[0m\u001b[1;33m\u001b[0m\u001b[1;33m\u001b[0m\u001b[0m\n\u001b[0;32m    133\u001b[0m     \u001b[0mE_reduced\u001b[0m \u001b[1;33m=\u001b[0m \u001b[0mreduce\u001b[0m\u001b[1;33m(\u001b[0m\u001b[0mE\u001b[0m\u001b[1;33m,\u001b[0m \u001b[0malpha_min\u001b[0m\u001b[1;33m,\u001b[0m \u001b[0malpha_max\u001b[0m\u001b[1;33m)\u001b[0m \u001b[1;31m# réduction du problème I-dominance\u001b[0m\u001b[1;33m\u001b[0m\u001b[1;33m\u001b[0m\u001b[0m\n\u001b[1;32m--> 134\u001b[1;33m     \u001b[0mP_reduced\u001b[0m\u001b[1;33m,\u001b[0m \u001b[0mI\u001b[0m \u001b[1;33m=\u001b[0m \u001b[0mpareto_prog_dyn\u001b[0m\u001b[1;33m(\u001b[0m\u001b[0mE_reduced\u001b[0m\u001b[1;33m,\u001b[0m \u001b[0mk\u001b[0m\u001b[1;33m,\u001b[0m \u001b[0mshow\u001b[0m\u001b[1;33m)\u001b[0m\u001b[1;33m\u001b[0m\u001b[1;33m\u001b[0m\u001b[0m\n\u001b[0m\u001b[0;32m    135\u001b[0m     \u001b[0mpareto_front_reduced\u001b[0m \u001b[1;33m=\u001b[0m \u001b[0mP_reduced\u001b[0m\u001b[1;33m[\u001b[0m\u001b[0mcolumn_name\u001b[0m\u001b[1;33m(\u001b[0m\u001b[0mE_reduced\u001b[0m\u001b[1;33m,\u001b[0m\u001b[0mn\u001b[0m\u001b[1;33m-\u001b[0m\u001b[1;36m1\u001b[0m\u001b[1;33m)\u001b[0m\u001b[1;33m]\u001b[0m\u001b[1;33m[\u001b[0m\u001b[0mk\u001b[0m\u001b[1;33m]\u001b[0m \u001b[1;31m# ensembles Pareto-optimaux de taille k dans E\u001b[0m\u001b[1;33m\u001b[0m\u001b[1;33m\u001b[0m\u001b[0m\n\u001b[0;32m    136\u001b[0m     \u001b[0midominate_front_i\u001b[0m \u001b[1;33m=\u001b[0m \u001b[0mI\u001b[0m\u001b[1;33m[\u001b[0m\u001b[0mcolumn_name\u001b[0m\u001b[1;33m(\u001b[0m\u001b[0mE_reduced\u001b[0m\u001b[1;33m,\u001b[0m\u001b[0mn\u001b[0m\u001b[1;33m-\u001b[0m\u001b[1;36m1\u001b[0m\u001b[1;33m)\u001b[0m\u001b[1;33m]\u001b[0m\u001b[1;33m[\u001b[0m\u001b[0mk\u001b[0m\u001b[1;33m]\u001b[0m\u001b[1;33m\u001b[0m\u001b[1;33m\u001b[0m\u001b[0m\n",
      "\u001b[1;32m~\\Desktop\\MADMC\\Projet\\algorithms.py\u001b[0m in \u001b[0;36mpareto_prog_dyn\u001b[1;34m(E, k, show)\u001b[0m\n\u001b[0;32m     55\u001b[0m                 \u001b[0munion_P\u001b[0m \u001b[1;33m=\u001b[0m \u001b[0mnp\u001b[0m\u001b[1;33m.\u001b[0m\u001b[0mappend\u001b[0m\u001b[1;33m(\u001b[0m\u001b[0mleft_P\u001b[0m\u001b[1;33m,\u001b[0m \u001b[0mright_P\u001b[0m\u001b[1;33m)\u001b[0m \u001b[1;31m# somme des termes gauche et droite\u001b[0m\u001b[1;33m\u001b[0m\u001b[1;33m\u001b[0m\u001b[0m\n\u001b[0;32m     56\u001b[0m                 \u001b[0munion_P\u001b[0m \u001b[1;33m=\u001b[0m \u001b[0munion_P\u001b[0m\u001b[1;33m.\u001b[0m\u001b[0mreshape\u001b[0m\u001b[1;33m(\u001b[0m\u001b[0mint\u001b[0m\u001b[1;33m(\u001b[0m\u001b[0munion_P\u001b[0m\u001b[1;33m.\u001b[0m\u001b[0mshape\u001b[0m\u001b[1;33m[\u001b[0m\u001b[1;36m0\u001b[0m\u001b[1;33m]\u001b[0m\u001b[1;33m/\u001b[0m\u001b[1;36m2\u001b[0m\u001b[1;33m)\u001b[0m\u001b[1;33m,\u001b[0m\u001b[1;36m2\u001b[0m\u001b[1;33m)\u001b[0m\u001b[1;33m.\u001b[0m\u001b[0mastype\u001b[0m\u001b[1;33m(\u001b[0m\u001b[0mtype\u001b[0m\u001b[1;33m(\u001b[0m\u001b[0mE\u001b[0m\u001b[1;33m[\u001b[0m\u001b[1;36m0\u001b[0m\u001b[1;33m]\u001b[0m\u001b[1;33m)\u001b[0m\u001b[1;33m)\u001b[0m\u001b[1;33m\u001b[0m\u001b[1;33m\u001b[0m\u001b[0m\n\u001b[1;32m---> 57\u001b[1;33m                 \u001b[0mpareto_points\u001b[0m\u001b[1;33m,\u001b[0m \u001b[0mmask\u001b[0m \u001b[1;33m=\u001b[0m \u001b[0mlexico_pareto_filter\u001b[0m\u001b[1;33m(\u001b[0m\u001b[0munion_P\u001b[0m\u001b[1;33m)\u001b[0m \u001b[1;31m# filtre de pareto sur l'ensemble formé\u001b[0m\u001b[1;33m\u001b[0m\u001b[1;33m\u001b[0m\u001b[0m\n\u001b[0m\u001b[0;32m     58\u001b[0m                 \u001b[0mP\u001b[0m\u001b[1;33m.\u001b[0m\u001b[0mat\u001b[0m\u001b[1;33m[\u001b[0m\u001b[0mi\u001b[0m\u001b[1;33m,\u001b[0m\u001b[0mcolumn_name\u001b[0m\u001b[1;33m(\u001b[0m\u001b[0mE\u001b[0m\u001b[1;33m,\u001b[0m\u001b[0mj\u001b[0m\u001b[1;33m)\u001b[0m\u001b[1;33m]\u001b[0m \u001b[1;33m=\u001b[0m \u001b[0mnp\u001b[0m\u001b[1;33m.\u001b[0m\u001b[0marray\u001b[0m\u001b[1;33m(\u001b[0m\u001b[0mpareto_points\u001b[0m\u001b[1;33m)\u001b[0m\u001b[1;33m.\u001b[0m\u001b[0mastype\u001b[0m\u001b[1;33m(\u001b[0m\u001b[0mE\u001b[0m\u001b[1;33m[\u001b[0m\u001b[1;36m0\u001b[0m\u001b[1;33m,\u001b[0m\u001b[1;36m0\u001b[0m\u001b[1;33m]\u001b[0m\u001b[1;33m)\u001b[0m\u001b[1;33m\u001b[0m\u001b[1;33m\u001b[0m\u001b[0m\n\u001b[0;32m     59\u001b[0m                 \u001b[0mI\u001b[0m\u001b[1;33m.\u001b[0m\u001b[0mat\u001b[0m\u001b[1;33m[\u001b[0m\u001b[0mi\u001b[0m\u001b[1;33m,\u001b[0m\u001b[0mcolumn_name\u001b[0m\u001b[1;33m(\u001b[0m\u001b[0mE\u001b[0m\u001b[1;33m,\u001b[0m\u001b[0mj\u001b[0m\u001b[1;33m)\u001b[0m\u001b[1;33m]\u001b[0m \u001b[1;33m=\u001b[0m \u001b[0munion_I\u001b[0m\u001b[1;33m(\u001b[0m\u001b[0mleft_I\u001b[0m\u001b[1;33m,\u001b[0m \u001b[0mright_I\u001b[0m\u001b[1;33m,\u001b[0m \u001b[0mmask\u001b[0m\u001b[1;33m)\u001b[0m\u001b[1;33m\u001b[0m\u001b[1;33m\u001b[0m\u001b[0m\n",
      "\u001b[1;32m~\\Desktop\\MADMC\\Projet\\utils.py\u001b[0m in \u001b[0;36mlexico_pareto_filter\u001b[1;34m(vectors)\u001b[0m\n\u001b[0;32m     78\u001b[0m         \u001b[1;32mif\u001b[0m \u001b[0mvector\u001b[0m\u001b[1;33m[\u001b[0m\u001b[1;36m1\u001b[0m\u001b[1;33m]\u001b[0m \u001b[1;33m<\u001b[0m \u001b[0mmin_1\u001b[0m\u001b[1;33m:\u001b[0m \u001b[1;31m# point dominant sur le second critère\u001b[0m\u001b[1;33m\u001b[0m\u001b[1;33m\u001b[0m\u001b[0m\n\u001b[0;32m     79\u001b[0m             \u001b[0mmin_1\u001b[0m \u001b[1;33m=\u001b[0m \u001b[0mvector\u001b[0m\u001b[1;33m[\u001b[0m\u001b[1;36m1\u001b[0m\u001b[1;33m]\u001b[0m\u001b[1;33m\u001b[0m\u001b[1;33m\u001b[0m\u001b[0m\n\u001b[1;32m---> 80\u001b[1;33m             \u001b[0mmask\u001b[0m\u001b[1;33m[\u001b[0m\u001b[0msort_vectors\u001b[0m\u001b[1;33m[\u001b[0m\u001b[0mi\u001b[0m\u001b[1;33m]\u001b[0m\u001b[1;33m]\u001b[0m \u001b[1;33m=\u001b[0m \u001b[0mnp\u001b[0m\u001b[1;33m.\u001b[0m\u001b[0mfull\u001b[0m\u001b[1;33m(\u001b[0m\u001b[1;33m(\u001b[0m\u001b[1;36m1\u001b[0m\u001b[1;33m,\u001b[0m\u001b[0md\u001b[0m\u001b[1;33m)\u001b[0m\u001b[1;33m,\u001b[0m \u001b[1;32mTrue\u001b[0m\u001b[1;33m,\u001b[0m \u001b[0mdtype\u001b[0m\u001b[1;33m=\u001b[0m\u001b[0mbool\u001b[0m\u001b[1;33m)\u001b[0m \u001b[1;31m# point non Pareto-dominé\u001b[0m\u001b[1;33m\u001b[0m\u001b[1;33m\u001b[0m\u001b[0m\n\u001b[0m\u001b[0;32m     81\u001b[0m         \u001b[1;32melif\u001b[0m \u001b[0mmask\u001b[0m\u001b[1;33m[\u001b[0m\u001b[0msort_vectors\u001b[0m\u001b[1;33m[\u001b[0m\u001b[0mi\u001b[0m\u001b[1;33m-\u001b[0m\u001b[1;36m1\u001b[0m\u001b[1;33m]\u001b[0m\u001b[1;33m]\u001b[0m\u001b[1;33m[\u001b[0m\u001b[1;36m0\u001b[0m\u001b[1;33m]\u001b[0m\u001b[1;33m:\u001b[0m \u001b[1;31m# si le point précédent n'est pas Pareto-dominé\u001b[0m\u001b[1;33m\u001b[0m\u001b[1;33m\u001b[0m\u001b[0m\n\u001b[0;32m     82\u001b[0m             \u001b[1;32mif\u001b[0m \u001b[0mvector\u001b[0m\u001b[1;33m[\u001b[0m\u001b[1;36m0\u001b[0m\u001b[1;33m]\u001b[0m\u001b[1;33m==\u001b[0m\u001b[0mvectors\u001b[0m\u001b[1;33m[\u001b[0m\u001b[0msort_vectors\u001b[0m\u001b[1;33m[\u001b[0m\u001b[0mi\u001b[0m\u001b[1;33m-\u001b[0m\u001b[1;36m1\u001b[0m\u001b[1;33m]\u001b[0m\u001b[1;33m,\u001b[0m\u001b[1;36m0\u001b[0m\u001b[1;33m]\u001b[0m \u001b[1;32mand\u001b[0m \u001b[0mvector\u001b[0m\u001b[1;33m[\u001b[0m\u001b[1;36m1\u001b[0m\u001b[1;33m]\u001b[0m\u001b[1;33m==\u001b[0m\u001b[0mvectors\u001b[0m\u001b[1;33m[\u001b[0m\u001b[0msort_vectors\u001b[0m\u001b[1;33m[\u001b[0m\u001b[0mi\u001b[0m\u001b[1;33m-\u001b[0m\u001b[1;36m1\u001b[0m\u001b[1;33m]\u001b[0m\u001b[1;33m,\u001b[0m\u001b[1;36m1\u001b[0m\u001b[1;33m]\u001b[0m\u001b[1;33m:\u001b[0m \u001b[1;31m# égalité\u001b[0m\u001b[1;33m\u001b[0m\u001b[1;33m\u001b[0m\u001b[0m\n",
      "\u001b[1;31mKeyboardInterrupt\u001b[0m: "
     ]
    }
   ],
   "source": [
    "times_1, times_2 = compare_procedures(two_phased_pareto, two_phased_idominance, nb_iter=50)\n",
    "np.savetxt('logs/times_pareto.csv', times_1, delimiter=',')\n",
    "np.savetxt('logs/times_idominance.csv', times_2, delimiter=',')"
   ]
  },
  {
   "cell_type": "code",
   "execution_count": null,
   "metadata": {},
   "outputs": [],
   "source": []
  }
 ],
 "metadata": {
  "kernelspec": {
   "display_name": "Python 3",
   "language": "python",
   "name": "python3"
  },
  "language_info": {
   "codemirror_mode": {
    "name": "ipython",
    "version": 3
   },
   "file_extension": ".py",
   "mimetype": "text/x-python",
   "name": "python",
   "nbconvert_exporter": "python",
   "pygments_lexer": "ipython3",
   "version": "3.8.3"
  }
 },
 "nbformat": 4,
 "nbformat_minor": 4
}
